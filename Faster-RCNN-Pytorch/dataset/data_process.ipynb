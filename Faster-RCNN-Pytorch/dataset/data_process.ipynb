{
 "cells": [
  {
   "cell_type": "markdown",
   "metadata": {},
   "source": [
    "# 数据处理使得FRCN结构能够正确获取数据\n",
    "## 数据集 ACNE04"
   ]
  },
  {
   "cell_type": "code",
   "execution_count": 2,
   "metadata": {},
   "outputs": [
    {
     "name": "stdout",
     "output_type": "stream",
     "text": [
      "数据路径文件已创建完成！\n"
     ]
    }
   ],
   "source": [
    "import os\n",
    "from os import listdir\n",
    "from os.path import join\n",
    "\n",
    "def create_data_path_file(data_dir, output_file, classes):\n",
    "    \"\"\"创建数据路径文件，格式为：图片路径 xmin,ymin,xmax,ymax,class_id ...\"\"\"\n",
    "    with open(output_file, 'w') as f:\n",
    "        # 直接扫描目录中的所有文件\n",
    "        for filename in listdir(data_dir):\n",
    "            if filename.endswith('.jpg'):\n",
    "                img_path = join(data_dir, filename)\n",
    "                xml_name = filename.replace('.jpg', '.xml')\n",
    "                xml_path = join(data_dir, xml_name)\n",
    "                \n",
    "                # 检查对应的XML文件是否存在\n",
    "                if os.path.exists(xml_path):\n",
    "                    # 解析XML文件，提取类别和边界框信息\n",
    "                    with open(xml_path, 'r') as xml_file:\n",
    "                        xml_content = xml_file.read()\n",
    "                        objects = []\n",
    "                        # 简单提取类别和边界框信息\n",
    "                        for obj in xml_content.split('<object>')[1:]:\n",
    "                            if '</object>' in obj:\n",
    "                                obj = obj.split('</object>')[0]\n",
    "                                name_start = obj.find('<name>') + 6\n",
    "                                name_end = obj.find('</name>')\n",
    "                                name = obj[name_start:name_end].strip()\n",
    "                                \n",
    "                                if name in classes:\n",
    "                                    xmin_start = obj.find('<xmin>') + 6\n",
    "                                    xmin_end = obj.find('</xmin>')\n",
    "                                    xmin = obj[xmin_start:xmin_end].strip()\n",
    "                                    \n",
    "                                    ymin_start = obj.find('<ymin>') + 6\n",
    "                                    ymin_end = obj.find('</ymin>')\n",
    "                                    ymin = obj[ymin_start:ymin_end].strip()\n",
    "                                    \n",
    "                                    xmax_start = obj.find('<xmax>') + 6\n",
    "                                    xmax_end = obj.find('</xmax>')\n",
    "                                    xmax = obj[xmax_start:xmax_end].strip()\n",
    "                                    \n",
    "                                    ymax_start = obj.find('<ymax>') + 6\n",
    "                                    ymax_end = obj.find('</ymax>')\n",
    "                                    ymax = obj[ymax_start:ymax_end].strip()\n",
    "                                    \n",
    "                                    objects.append(f\"{xmin},{ymin},{xmax},{ymax},{classes.index(name)}\")\n",
    "                        \n",
    "                        # 写入文件\n",
    "                        if objects:\n",
    "                            line = f\"{img_path} {' '.join(objects)}\\n\"\n",
    "                            f.write(line)\n",
    "\n",
    "# 在这里设置你的路径\n",
    "# ---------------------------\n",
    "train_data_dir = '/data_lg/keru/project/Faster-RCNN-Pytorch/dataset/train'      # 训练集目录路径\n",
    "val_data_dir = '/data_lg/keru/project/Faster-RCNN-Pytorch/dataset/valid'    # 验证集目录路径\n",
    "train_output_file = '/data_lg/keru/project/Faster-RCNN-Pytorch/faster-rcnn-pytorch-master/map_out/2007_train.txt'       # 训练集输出文件\n",
    "val_output_file = '/data_lg/keru/project/Faster-RCNN-Pytorch/faster-rcnn-pytorch-master/map_out/2007_val.txt'           # 验证集输出文件\n",
    "# ---------------------------\n",
    "\n",
    "# 指定你的类别\n",
    "classes = ['nodules and cysts', 'papules', 'pustules', 'whitehead and blackhead']\n",
    "\n",
    "# 创建训练集文件\n",
    "create_data_path_file(train_data_dir, train_output_file, classes)\n",
    "\n",
    "# 创建验证集文件\n",
    "create_data_path_file(val_data_dir, val_output_file, classes)\n",
    "\n",
    "print(\"数据路径文件已创建完成！\")"
   ]
  },
  {
   "cell_type": "code",
   "execution_count": 2,
   "metadata": {},
   "outputs": [
    {
     "name": "stdout",
     "output_type": "stream",
     "text": [
      "图片的尺寸：640 x 640, 通道数：3\n"
     ]
    }
   ],
   "source": [
    "from PIL import Image\n",
    "\n",
    "image_path = '/data_lg/keru/project/Faster-RCNN-Pytorch/dataset/train/levle3_144_jpg.rf.cffd1f8ea08ae239330de260360271e2.jpg' # 替换为你的图片路径\n",
    "image = Image.open(image_path)\n",
    "width, height = image.size\n",
    "channels = 3 if image.mode == 'RGB' else 1\n",
    "print(f'图片的尺寸：{height} x {width}, 通道数：{channels}')"
   ]
  },
  {
   "cell_type": "markdown",
   "metadata": {},
   "source": [
    "# 验证数据格式是否正确"
   ]
  },
  {
   "cell_type": "code",
   "execution_count": 1,
   "metadata": {},
   "outputs": [
    {
     "name": "stdout",
     "output_type": "stream",
     "text": [
      "Validation result: True, Valid\n"
     ]
    }
   ],
   "source": [
    "import os\n",
    "from PIL import Image\n",
    "\n",
    "def validate_data_line(line):\n",
    "    parts = line.strip().split()\n",
    "    if len(parts) < 2:\n",
    "        return False, \"No bounding boxes found\"\n",
    "    \n",
    "    image_path = parts[0]\n",
    "    if not os.path.exists(image_path):\n",
    "        return False, f\"Image file not found: {image_path}\"\n",
    "    \n",
    "    try:\n",
    "        img = Image.open(image_path)\n",
    "        width, height = img.size\n",
    "    except Exception as e:\n",
    "        return False, f\"Error opening image: {e}\"\n",
    "    \n",
    "    for bbox_str in parts[1:]:\n",
    "        bbox_parts = bbox_str.split(',')\n",
    "        if len(bbox_parts) != 5:\n",
    "            return False, f\"Invalid bbox format: {bbox_str}\"\n",
    "        \n",
    "        try:\n",
    "            x1, y1, x2, y2, class_id = map(int, bbox_parts)\n",
    "        except ValueError:\n",
    "            return False, f\"Non-integer values in bbox: {bbox_str}\"\n",
    "        \n",
    "        if x1 >= x2 or y1 >= y2:\n",
    "            return False, f\"Invalid coordinates: {bbox_str}\"\n",
    "        \n",
    "        if x1 < 0 or y1 < 0 or x2 > width or y2 > height:\n",
    "            return False, f\"Coordinates out of image bounds: {bbox_str}\"\n",
    "    \n",
    "    return True, \"Valid\"\n",
    "\n",
    "# 测试单行数据\n",
    "test_line = \"/data_lg/keru/project/Faster-RCNN-Pytorch/dataset/train/levle1_37_jpg.rf.b39582a0736a2bba49e06b2ceae6f986.jpg 215,175,251,210,2 232,444,265,481,2 262,426,296,459,2 287,457,322,487,2 266,483,297,514,2 304,512,336,546,2 320,433,344,453,2 360,444,386,471,2 378,461,409,491,2 405,466,428,495,2 439,428,478,457,2 439,406,465,426,2 418,393,430,412,2 412,436,439,464,2\"\n",
    "valid, message = validate_data_line(test_line)\n",
    "print(f\"Validation result: {valid}, {message}\")"
   ]
  },
  {
   "cell_type": "code",
   "execution_count": null,
   "metadata": {},
   "outputs": [],
   "source": []
  }
 ],
 "metadata": {
  "kernelspec": {
   "display_name": "doreen",
   "language": "python",
   "name": "doreen"
  },
  "language_info": {
   "codemirror_mode": {
    "name": "ipython",
    "version": 3
   },
   "file_extension": ".py",
   "mimetype": "text/x-python",
   "name": "python",
   "nbconvert_exporter": "python",
   "pygments_lexer": "ipython3",
   "version": "3.9.18"
  }
 },
 "nbformat": 4,
 "nbformat_minor": 2
}
